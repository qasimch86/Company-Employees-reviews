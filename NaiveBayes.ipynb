{
 "cells": [
  {
   "cell_type": "code",
   "execution_count": 1,
   "metadata": {},
   "outputs": [],
   "source": [
    "import pandas as pd\n",
    "from collections import OrderedDict\n",
    "import os\n",
    "import numpy as np\n",
    "import math as mt\n",
    "os.chdir('/Users/qasimch86/Desktop/Data_Science/Mcmaster CCE/BDA 104_Programming/Project/datapython')"
   ]
  },
  {
   "cell_type": "code",
   "execution_count": 2,
   "metadata": {},
   "outputs": [],
   "source": [
    "Fac_df={}\n",
    "Fac_df[0]=pd.read_excel('Combined6.xlsx', sheet_name='Sheet1',parse_date=['conversation_created_at'])\n",
    "Fac_df[1]=pd.read_excel('Combined6.xlsx', sheet_name='Sheet2',parse_date=['conversation_created_at'])\n",
    "Fac_df[2]=pd.read_excel('Combined6.xlsx', sheet_name='Sheet3',parse_date=['conversation_created_at'])"
   ]
  },
  {
   "cell_type": "code",
   "execution_count": 3,
   "metadata": {},
   "outputs": [],
   "source": [
    "Fac_df[0].FacID=Fac_df[0].FacID.str.replace('a','').astype(int)\n",
    "Fac_df[1].FacID=Fac_df[1].FacID.str.replace('a','').astype(int)\n",
    "Fac_df[2].FacID=Fac_df[2].FacID.str.replace('a','').astype(int)"
   ]
  },
  {
   "cell_type": "code",
   "execution_count": 4,
   "metadata": {},
   "outputs": [],
   "source": [
    "Feature_df=pd.DataFrame()\n",
    "Feature_df=Fac_df[2].drop('Forced Overtime',axis=1)\n",
    "Target_df=pd.DataFrame({'Forced Overtime':np.array(Fac_df[2]['Forced Overtime'])})\n",
    "Feature_df[Fac_df[0].columns.values]=Fac_df[0]\n",
    "Feature_df[Fac_df[1].columns.values]=Fac_df[1]\n",
    "Feature_df=Feature_df.drop('FacID',axis=1)"
   ]
  },
  {
   "cell_type": "code",
   "execution_count": 14,
   "metadata": {},
   "outputs": [],
   "source": [
    "from sklearn.svm import SVR\n",
    "from sklearn.model_selection import train_test_split\n",
    "x_train,x_test,y_train,y_test=train_test_split(Feature_df,Target_df,test_size=0.3,random_state=30)\n",
    "Lmodel=SVR(kernel='rbf', C=1e3, gamma=0.1)#(kernel='linear')\n",
    "Lmodel.fit(x_train,y_train['Forced Overtime'].values)\n",
    "y_pred = Lmodel.predict(x_test)\n",
    "# Lmodel.score(x_train,y_train['Forced Overtime'].values)\n",
    "\n",
    "# from sklearn.cross_validation import cross_val_score, cross_val_predict\n",
    "# from sklearn import metrics\n",
    "# scores = cross_val_score(Lmodel, Feature_df, Target_df, cv=6)\n",
    "# print('Cross-validated scores:', scores)\n",
    "# Lmodel.score(x_test,y_test)\n",
    "# ypred=[x for xs in y_pred for x in xs]\n",
    "# accuracy = metrics.r2_score(y_test, ypred)\n",
    "# print('Cross-Predicted Accuracy:', accuracy)\n",
    "\n",
    "# rel_err=np.absolute(np.subtract(ypred,y_test['Forced Overtime'].values))/y_test['Forced Overtime'].values\n",
    "# import matplotlib.pyplot as plt \n",
    "# fig, axes7 = plt.subplots(1,1,figsize=(15, 4))\n",
    "# # for i in range(1,4):\n",
    "# axes7.plot(rel_err,'.')\n",
    "# axes7.set_ylim([0, 2])\n",
    "# plt.show()\n",
    "\n",
    "# for i, j in enumerate(x_train.columns):\n",
    "#     print(\"The coefficient for {} is {}\".format(j, Lmodel.coef_[0][i]))\n",
    "# arr_coef=Lmodel.coef_\n",
    "# intercept=Lmodel.intercept_\n",
    "\n",
    "# from sklearn.feature_selection import RFE\n",
    "# rfe = RFE(Lmodel,n_features_to_select=1)\n",
    "# rfe.fit(Feature_df,Target_df['Forced Overtime'].values)\n",
    "# ranking=rfe.ranking_\n",
    "# print('Ranking',ranking)"
   ]
  },
  {
   "cell_type": "code",
   "execution_count": 9,
   "metadata": {},
   "outputs": [
    {
     "name": "stdout",
     "output_type": "stream",
     "text": [
      "Cross-validated scores: [0.41286913 0.54293923 0.76848731 0.71732475 0.42156982 0.13968014]\n",
      "Cross-Predicted Accuracy: 0.5686996840546406\n"
     ]
    }
   ],
   "source": [
    "Feature2_df=pd.DataFrame()\n",
    "Feature2_df[Feature_df.columns[7]]=Feature_df[Feature_df.columns[7]]\n",
    "Feature2_df[Feature_df.columns[1]]=Feature_df[Feature_df.columns[1]]\n",
    "Feature2_df[Feature_df.columns[10]]=Feature_df[Feature_df.columns[10]]\n",
    "x_train,x_test,y_train,y_test=train_test_split(Feature2_df,Target_df,test_size=0.3,random_state=30)\n",
    "Lmodel=KNeighborsRegressor()\n",
    "Lmodel.fit(x_train,y_train)\n",
    "\n",
    "# from sklearn.cross_validation import cross_val_score, cross_val_predict\n",
    "# from sklearn import metrics\n",
    "# scores = cross_val_score(Lmodel, Feature2_df, Target_df, cv=6)\n",
    "# print('Cross-validated scores:', scores)\n",
    "# y_pred = Lmodel.predict(x_test)\n",
    "# Lmodel.score(x_train,y_train)\n",
    "# Lmodel.score(x_test,y_test)\n",
    "# ypred=[x for xs in y_pred for x in xs]\n",
    "# accuracy = metrics.r2_score(y_test, ypred)\n",
    "# print('Cross-Predicted Accuracy:', accuracy)\n",
    "\n",
    "# rel_err=np.absolute(np.subtract(ypred,y_test['Forced Overtime'].values))/y_test['Forced Overtime'].values\n",
    "\n",
    "# from sklearn.feature_selection import RFE\n",
    "# rfe = RFE(Lmodel,n_features_to_select=1)\n",
    "# rfe.fit(Feature2_df,Target_df['Forced Overtime'].values)\n",
    "# ranking=rfe.ranking_\n",
    "# print('Ranking',ranking)\n",
    "# for i, j in enumerate(x_train.columns):\n",
    "#     print(\"The coefficient for {} is {}\".format(j, Lmodel.coef_[0][i]))\n",
    "# arr_coef=Lmodel.coef_\n",
    "# intercept=Lmodel.intercept_"
   ]
  },
  {
   "cell_type": "code",
   "execution_count": null,
   "metadata": {},
   "outputs": [],
   "source": []
  },
  {
   "cell_type": "code",
   "execution_count": null,
   "metadata": {},
   "outputs": [],
   "source": []
  },
  {
   "cell_type": "code",
   "execution_count": null,
   "metadata": {},
   "outputs": [],
   "source": []
  }
 ],
 "metadata": {
  "kernelspec": {
   "display_name": "Python 3",
   "language": "python",
   "name": "python3"
  },
  "language_info": {
   "codemirror_mode": {
    "name": "ipython",
    "version": 3
   },
   "file_extension": ".py",
   "mimetype": "text/x-python",
   "name": "python",
   "nbconvert_exporter": "python",
   "pygments_lexer": "ipython3",
   "version": "3.5.5"
  }
 },
 "nbformat": 4,
 "nbformat_minor": 2
}
